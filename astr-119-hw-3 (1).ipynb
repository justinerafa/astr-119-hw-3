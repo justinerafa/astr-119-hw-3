{
 "cells": [
  {
   "cell_type": "code",
   "execution_count": null,
   "metadata": {},
   "outputs": [],
   "source": [
    "%matplotlib inline \n",
    "import numpy as np \n",
    "import matplotlib.pyplot as plt"
   ]
  },
  {
   "cell_type": "code",
   "execution_count": null,
   "metadata": {},
   "outputs": [],
   "source": [
    "def Function_for_roots(x): \n",
    "    a = 1.01\n",
    "    b = -3.04\n",
    "    c = 2.07\n",
    "    return a*x**2 + b*x + c "
   ]
  },
  {
   "cell_type": "markdown",
   "metadata": {},
   "source": [
    "Define a function that checks whether or not the intial values are valid "
   ]
  },
  {
   "cell_type": "code",
   "execution_count": null,
   "metadata": {},
   "outputs": [],
   "source": [
    "def Check_initial_values(f, x_min, x_max, tol):  #function, minimum x, maximum x, tolerance\n",
    "\n",
    "    #we need to check our initial guesses \n",
    "    y_min = f(x_min)\n",
    "    y_max = f(x_max)\n",
    "    \n",
    "    #check that there is a zero crossing between x_min and x_max \n",
    "    #product of functional values should be less than 0\n",
    "    if(y_min*y_max>=0.0):\n",
    "        print('There is no zero crossing in this range = ', x_min, x_max)\n",
    "        \n",
    "        #all the %f are replaced with the values after the last %\n",
    "        #strings like this are used when you dont know the values of variables yet \n",
    "        s = \"f(%f) = %f, f(%f) = %f\" % (x_min, y_min, x_max, y_max)\n",
    "        print(s)\n",
    "        return 0\n",
    "    \n",
    "    #if the absolute value of functional values is less than the tolerance(a really small number)\n",
    "    #then a root is found\n",
    "    if(np.fabs(y_min)<tol):\n",
    "        return 1\n",
    "    \n",
    "    if(np.fabs(y_max)<tol):\n",
    "        return 2\n",
    "    \n",
    "    #if the function runs until this point without printing anything, the bracket is valid. \n",
    "    #no zeros have been found but we can proceed with the bisection search  \n",
    "    return 3\n",
    "    \n",
    "    "
   ]
  },
  {
   "cell_type": "code",
   "execution_count": null,
   "metadata": {},
   "outputs": [],
   "source": [
    "def bisection_root_finding(f, x_min_start, x_max_start, tol):\n",
    "    \n",
    "    #this function uses bisection search to find a root    \n",
    "    \n",
    "    x_min = x_min_start    #this is the minimum x in the bracket \n",
    "    x_max = x_max_start    #this is the maximum x in the bracket \n",
    "    x_mid = 0.0            #the rance goes from + to - or vice versa, so 0.0 will be in the middle \n",
    "    \n",
    "    y_min = f(x_min)       #value of the function at x_min\n",
    "    y_max = f(x_max)       #value of the function at x_max \n",
    "    y_mid = f(0.0)         #value of the function at 0.0\n",
    "    \n",
    "    imax= 10000            #set number of iterations \n",
    "    i = 0                  #starts counting from 0 \n",
    "    \n",
    "    #check the initial values \n",
    "    flag = Check_initial_values(f, x_min, x_max, tol) \n",
    "    #this uses the returned values of the Check initial values function and returns actuaL values\n",
    "    if(flag==0):\n",
    "        print('Error in bisection_root_finding().')\n",
    "        raise ValueError('Initial values invalid', x_min, x_max)\n",
    "   \n",
    "    elif(flag==1):\n",
    "        return x_min\n",
    "    \n",
    "    elif(flag==2):\n",
    "        return x_max\n",
    "    \n",
    "\n",
    "    #this is the code for the search iterations \n",
    "    \n",
    "    flag = 1 \n",
    "    \n",
    "    #use a while loop to begin the iteration \n",
    "    while(flag): \n",
    "        x_mid =  0.5*(x_min*+x_max)   #this is the midpoint of the bracket \n",
    "        y_mid = f(x_mid)              #this is the y value at the midpoint \n",
    "        \n",
    "        #if the absolute value of y_mid is less than the tolerance, then it is a root \n",
    "        if(np.fabs(y_mid)<tol):\n",
    "            flag = 0\n",
    "        else:\n",
    "            #if the product of the midpoint value and one of the endpoints is >0\n",
    "            #replace the end point with the midpoint \n",
    "            if(f(x_min)*f(x_mid)>0):\n",
    "                x_min = x_mid\n",
    "                \n",
    "            else: \n",
    "                x_max = x_mid\n",
    "                \n",
    "        print(x_min, f(x_min), x_max, f(x_max))\n",
    "        \n",
    "        #add 1 to the iteration to represent the next \n",
    "        i += 1\n",
    "        \n",
    "        #exit if the max number of iterations is reached \n",
    "        if(i>=imax):\n",
    "            print('Max number of iterations exceeded = ', i)\n",
    "            s = \"Min bracket f(%f) = %f\" % (x_min, f(x_min))\n",
    "            print(s)\n",
    "            s = 'Max bracket f(%f) = %f' % (x_max, f(x_max))\n",
    "            print(s)\n",
    "            s = 'Mid bracket f(%f) = %f' % (x_max, f(x_max))\n",
    "            print(s)\n",
    "            raise StopIteration ('Stop iterations after ', i)\n",
    "            \n",
    "    return x_mid"
   ]
  },
  {
   "cell_type": "code",
   "execution_count": null,
   "metadata": {},
   "outputs": [],
   "source": [
    "x_min = 0.0\n",
    "x_max = 1.5\n",
    "tolerance = 1.0e-6\n",
    "\n",
    "print(x_min, Function_for_roots(x_min))\n",
    "print(x_max, Function_for_roots(x_max))\n",
    "\n",
    "x_root = bisection_root_finding(Function_for_roots,x_min,x_max,tolerance)\n",
    "y_root = Function_for_roots(x_root)\n",
    "\n",
    "s = 'Root found with y(%f) = %f' % (x_root, y_root)\n",
    "print(s)"
   ]
  },
  {
   "cell_type": "code",
   "execution_count": null,
   "metadata": {},
   "outputs": [],
   "source": [
    "x = np.linspace(0,3,1000)\n",
    "a = 1.01*x**2 - 3.04*x + 2.07\n",
    "z = 0\n",
    "plt.plot(x, a)\n",
    "plt.hlines(z, 0,3)\n",
    "plt.ylim(-.5,2.1)"
   ]
  },
  {
   "cell_type": "code",
   "execution_count": null,
   "metadata": {},
   "outputs": [],
   "source": [
    "#I'm not too sure how to plot points "
   ]
  }
 ],
 "metadata": {
  "kernelspec": {
   "display_name": "Python 3",
   "language": "python",
   "name": "python3"
  },
  "language_info": {
   "codemirror_mode": {
    "name": "ipython",
    "version": 3
   },
   "file_extension": ".py",
   "mimetype": "text/x-python",
   "name": "python",
   "nbconvert_exporter": "python",
   "pygments_lexer": "ipython3",
   "version": "3.4.6"
  }
 },
 "nbformat": 4,
 "nbformat_minor": 2
}
